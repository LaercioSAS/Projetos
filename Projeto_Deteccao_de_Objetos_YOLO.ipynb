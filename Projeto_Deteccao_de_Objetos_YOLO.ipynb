{
 "cells": [
  {
   "cell_type": "markdown",
   "id": "6adb1872",
   "metadata": {},
   "source": [
    "<!-- Projeto Detecção de Objeto usando YOLO e Darknet  -->\n",
    "\n",
    "YOLO\n",
    "O YOLO (You Only Look Once) é um popular modelo de rede neural convolucional para detecção de objetos em imagens e vídeos em tempo real. Existem várias implementações do YOLO em Python disponíveis, sendo a mais conhecida a implementação oficial chamada \"YOLOv4\" (ou \"YOLOv5\" na versão mais recente). Essa implementação é mantida pela comunidade e pode ser encontrada no GitHub.\n",
    "\n",
    "Darknet\n",
    "O Darknet é um framework de código aberto escrito em C e CUDA para treinamento e inferência de modelos de detecção de objetos, incluindo versões do YOLO (You Only Look Once). Embora o Darknet seja escrito principalmente em C, ele também possui interfaces Python que permitem usar suas funcionalidades em Python."
   ]
  },
  {
   "cell_type": "code",
   "execution_count": null,
   "id": "b320660e",
   "metadata": {},
   "outputs": [],
   "source": []
  }
 ],
 "metadata": {
  "kernelspec": {
   "display_name": "Python 3 (ipykernel)",
   "language": "python",
   "name": "python3"
  },
  "language_info": {
   "codemirror_mode": {
    "name": "ipython",
    "version": 3
   },
   "file_extension": ".py",
   "mimetype": "text/x-python",
   "name": "python",
   "nbconvert_exporter": "python",
   "pygments_lexer": "ipython3",
   "version": "3.9.13"
  },
  "toc": {
   "base_numbering": 1,
   "nav_menu": {},
   "number_sections": true,
   "sideBar": true,
   "skip_h1_title": false,
   "title_cell": "Table of Contents",
   "title_sidebar": "Contents",
   "toc_cell": false,
   "toc_position": {},
   "toc_section_display": true,
   "toc_window_display": false
  }
 },
 "nbformat": 4,
 "nbformat_minor": 5
}
