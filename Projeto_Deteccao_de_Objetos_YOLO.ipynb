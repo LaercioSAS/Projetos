{
 "cells": [
  {
   "cell_type": "markdown",
   "id": "4c48272d",
   "metadata": {},
   "source": [
    "<!-- Configuração git: -->\n",
    "1ª Acessando diretório via termina:\n",
    "C:\\Users\\laerc\\Unifor\\Projeto_Deteccao_de_Objetos_YOLO>\n",
    "\n",
    "2ª Clonar o repositório GitHub:\n",
    "git clone https://github.com/LaercioSAS/Projetos.git\n",
    "\n",
    "3ª Enviar blocos de anotações para o GitHub\n",
    "cp /some/path/Projeto_Deteccao_de_Objetos_YOLO.ipynb /path/of/Projetos/"
   ]
  }
 ],
 "metadata": {
  "kernelspec": {
   "display_name": "Python 3 (ipykernel)",
   "language": "python",
   "name": "python3"
  },
  "language_info": {
   "codemirror_mode": {
    "name": "ipython",
    "version": 3
   },
   "file_extension": ".py",
   "mimetype": "text/x-python",
   "name": "python",
   "nbconvert_exporter": "python",
   "pygments_lexer": "ipython3",
   "version": "3.9.13"
  },
  "toc": {
   "base_numbering": 1,
   "nav_menu": {},
   "number_sections": true,
   "sideBar": true,
   "skip_h1_title": false,
   "title_cell": "Table of Contents",
   "title_sidebar": "Contents",
   "toc_cell": false,
   "toc_position": {},
   "toc_section_display": true,
   "toc_window_display": false
  }
 },
 "nbformat": 4,
 "nbformat_minor": 5
}
